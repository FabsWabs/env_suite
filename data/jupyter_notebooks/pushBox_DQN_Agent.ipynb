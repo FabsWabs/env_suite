{
 "cells": [
  {
   "cell_type": "code",
   "execution_count": 0,
   "metadata": {
    "colab": {},
    "colab_type": "code",
    "id": "ZtBsRYIvZEWS"
   },
   "outputs": [],
   "source": [
    "operation = \"learn\""
   ]
  },
  {
   "cell_type": "code",
   "execution_count": 0,
   "metadata": {
    "colab": {},
    "colab_type": "code",
    "id": "b0f7QWMzfJ5z"
   },
   "outputs": [],
   "source": [
    "import sys\n",
    "from env_suite import *"
   ]
  },
  {
   "cell_type": "code",
   "execution_count": 0,
   "metadata": {
    "colab": {},
    "colab_type": "code",
    "id": "ES9H9RZ_Z0C0"
   },
   "outputs": [],
   "source": [
    "!pip install stable-baselines\n",
    "!pip install tensorflow==1.5"
   ]
  },
  {
   "cell_type": "code",
   "execution_count": 0,
   "metadata": {
    "colab": {},
    "colab_type": "code",
    "id": "pGix0EqNaVHt"
   },
   "outputs": [],
   "source": [
    "from stable_baselines.common.policies import MlpPolicy\n",
    "from stable_baselines.common.vec_env import DummyVecEnv\n",
    "from stable_baselines import PPO2, A2C, DQN"
   ]
  },
  {
   "cell_type": "code",
   "execution_count": 0,
   "metadata": {
    "colab": {},
    "colab_type": "code",
    "id": "prQiqsEAcNBh"
   },
   "outputs": [],
   "source": [
    "env = DummyVecEnv([lambda: pushBox()])\n",
    "modelname = 'DQN_pushBox'"
   ]
  },
  {
   "cell_type": "code",
   "execution_count": 0,
   "metadata": {
    "colab": {},
    "colab_type": "code",
    "id": "cR6WkAdUgMlK"
   },
   "outputs": [],
   "source": [
    "if operation == \"show\":\n",
    "  model = DQN.load(\"pushBox/\" + modelname)\n",
    "else:\n",
    "  model = DQN('MlpPolicy', env, verbose=1)\n",
    "  model.learn(total_timesteps=100000)\n",
    "  model.save(\"pushBox/\" + modelname)"
   ]
  },
  {
   "cell_type": "code",
   "execution_count": 0,
   "metadata": {
    "colab": {},
    "colab_type": "code",
    "id": "EBhSOf3ZkdMv"
   },
   "outputs": [],
   "source": [
    "import time\n",
    "eval_env = pushBox()\n",
    "n_episodes = 10\n",
    "\n",
    "for episode in range(n_episodes):\n",
    "  obs = eval_env.reset()\n",
    "  eval_env.render()\n",
    "  done = False\n",
    "  sum_reward = 0\n",
    "  while not done:\n",
    "    action, _ = model.predict(obs, deterministic=True)\n",
    "    obs, reward, done, _ = eval_env.step(action)\n",
    "    eval_env.render()\n",
    "    sum_reward += reward\n",
    "    time.sleep(0.5)\n",
    "  print(f\"Episode reward: {sum_reward}\")\n",
    "  \n"
   ]
  }
 ],
 "metadata": {
  "accelerator": "GPU",
  "colab": {
   "authorship_tag": "ABX9TyPw0iEN2MKEPsHMs7rN7mCg",
   "collapsed_sections": [],
   "name": "pushBox_DQN_Agent.ipynb",
   "private_outputs": true,
   "provenance": []
  },
  "kernelspec": {
   "display_name": "Python 3",
   "language": "python",
   "name": "python3"
  },
  "language_info": {
   "codemirror_mode": {
    "name": "ipython",
    "version": 3
   },
   "file_extension": ".py",
   "mimetype": "text/x-python",
   "name": "python",
   "nbconvert_exporter": "python",
   "pygments_lexer": "ipython3",
   "version": "3.6.10"
  }
 },
 "nbformat": 4,
 "nbformat_minor": 1
}
